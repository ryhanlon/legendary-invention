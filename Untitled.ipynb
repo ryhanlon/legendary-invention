{
 "cells": [
  {
   "cell_type": "code",
   "execution_count": 11,
   "metadata": {
    "collapsed": false
   },
   "outputs": [
    {
     "ename": "SyntaxError",
     "evalue": "invalid syntax (<ipython-input-11-f7b69daceae8>, line 23)",
     "output_type": "error",
     "traceback": [
      "\u001b[0;36m  File \u001b[0;32m\"<ipython-input-11-f7b69daceae8>\"\u001b[0;36m, line \u001b[0;32m23\u001b[0m\n\u001b[0;31m    char.index[]\u001b[0m\n\u001b[0m               ^\u001b[0m\n\u001b[0;31mSyntaxError\u001b[0m\u001b[0;31m:\u001b[0m invalid syntax\n"
     ]
    }
   ],
   "source": [
    "import string\n",
    "\n",
    "\n",
    "\n",
    "# print(phrase)\n",
    "\n",
    "def decoder():\n",
    "    abc_forward = string.ascii_lowercase\n",
    "    abc_swap = string.ascii_lowercase[13:26] + abc_forward[0:13]\n",
    "    \n",
    "    print(abc_forward, abc_swap, sep='\\n')\n",
    "    \n",
    "    message = \"Ohg, bssvpre, V qvqa'g pngpu gurfr -- gurl ner zl crg svfu naq V whfg\\\n",
    "     oevat gurz urer gb fjvz. Jura gurl'er qbar gurl whzc onpx vagb gur ohpxrg.\".lower()\n",
    "\n",
    "\n",
    "    result = ''\n",
    "    for char in message:\n",
    "        \n",
    "        if char not in abc_swap:\n",
    "            result += char        # Punctuation, whitespace\n",
    "\n",
    "        elif char in abc_swap:\n",
    "            position = abc_swap.index(char)\n",
    "            decripted = \n",
    "            result += char\n",
    "            \n",
    "    return result\n",
    "    \n",
    "decoder()"
   ]
  },
  {
   "cell_type": "code",
   "execution_count": 12,
   "metadata": {
    "collapsed": false
   },
   "outputs": [
    {
     "data": {
      "text/plain": [
       "'b'"
      ]
     },
     "execution_count": 12,
     "metadata": {},
     "output_type": "execute_result"
    }
   ],
   "source": [
    "'aabjnuh'[2]    # fwd[pos]"
   ]
  },
  {
   "cell_type": "code",
   "execution_count": null,
   "metadata": {
    "collapsed": true
   },
   "outputs": [],
   "source": []
  }
 ],
 "metadata": {
  "kernelspec": {
   "display_name": "Python 3",
   "language": "python",
   "name": "python3"
  },
  "language_info": {
   "codemirror_mode": {
    "name": "ipython",
    "version": 3
   },
   "file_extension": ".py",
   "mimetype": "text/x-python",
   "name": "python",
   "nbconvert_exporter": "python",
   "pygments_lexer": "ipython3",
   "version": "3.6.0"
  }
 },
 "nbformat": 4,
 "nbformat_minor": 0
}
